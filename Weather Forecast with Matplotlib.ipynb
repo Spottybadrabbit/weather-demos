{
    "cells": [
        {
            "cell_type": "markdown", 
            "source": "# Weather Forecast with Matplotlib\n\nThis notebook shows how to:\n1. use the Weather Company Data API to get weather forecast json data based on latitude and longitude\n2. convert this json data into a [pandas](http://pandas.pydata.org/pandas-docs/stable/) DataFrame\n4. create a weather chart and map with [matplotlib](http://matplotlib.org/)\n\nBefore running the notebook:\n* Sign up for a free trial Bluemix account on the [IBM Cloud](https://www.ibm.com/cloud)\n* Launch the Weather Data service in Bluemix. Learn more [here](https://console.ng.bluemix.net/docs/services/Weather/index.html)\n* Run this notebook locally or in the IBM Cloud using the [IBM Data Science Experience](http://datascience.ibm.com/)\n\n<div class=\"alert alert-block alert-info\">*Note*: Use example data from [here]() in case you do not have access to the weather API.</div>\n\n## 1. Load and install packages", 
            "metadata": {
                "collapsed": true
            }
        }, 
        {
            "cell_type": "code", 
            "source": "import requests\nimport json\nimport pandas as pd\nimport numpy as np\nfrom datetime import datetime\nimport time", 
            "metadata": {}, 
            "execution_count": 2, 
            "outputs": []
        }, 
        {
            "cell_type": "markdown", 
            "source": "## 2. Get weather data\n\n* Fill in the latitude and longitude of the loaction you are interested in. \n\n* Then fill in your Weather Company API credentials to load the weather forecast for where you are.\n\n* **Replace with this code to use the example data instead: `json_data = json.load(open('weather_london.json'))`**", 
            "metadata": {}
        }, 
        {
            "cell_type": "code", 
            "source": "# London\nlat = '51.49999473'\nlon = '-0.116721844'\n\n", 
            "metadata": {}, 
            "execution_count": 4, 
            "outputs": [
                {
                    "output_type": "display_data", 
                    "metadata": {}, 
                    "data": {
                        "application/javascript": "navigator.geolocation.getCurrentPosition(function(position) {\n  console.log(position.coords.latitude, position.coords.longitude);\nsetTimeout(function() {\nIPython.notebook.kernel.execute('lat=\"' + position.coords.latitude + '\";')\nIPython.notebook.kernel.execute('lon=\"' + position.coords.longitude + '\";')\n},5000)});\n\n# London\nlat = '51.49999473'\nlon = '-0.116721844'\n", 
                        "text/plain": "<IPython.core.display.Javascript object>"
                    }
                }
            ]
        }, 
        {
            "cell_type": "code", 
            "source": "", 
            "metadata": {
                "collapsed": true
            }, 
            "execution_count": null, 
            "outputs": []
        }
    ], 
    "nbformat": 4, 
    "metadata": {
        "kernelspec": {
            "language": "python", 
            "name": "python3-spark21", 
            "display_name": "Python 3.5 (Experimental) with Spark 2.1"
        }, 
        "language_info": {
            "file_extension": ".py", 
            "codemirror_mode": {
                "version": 3, 
                "name": "ipython"
            }, 
            "pygments_lexer": "ipython3", 
            "version": "3.5.2", 
            "nbconvert_exporter": "python", 
            "mimetype": "text/x-python", 
            "name": "python"
        }
    }, 
    "nbformat_minor": 1
}